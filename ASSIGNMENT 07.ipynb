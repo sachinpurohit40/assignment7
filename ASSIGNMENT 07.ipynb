{
 "cells": [
  {
   "cell_type": "markdown",
   "id": "140d84b8",
   "metadata": {},
   "source": [
    "# ASSIGNMENT 07 (21 MAY)"
   ]
  },
  {
   "cell_type": "markdown",
   "id": "e452fff1",
   "metadata": {},
   "source": [
    "QUE 1 =Create two int type variables, apply addition, subtraction, division and multiplications\n",
    "and store the results in variables. Then print the data in the following format by calling the\n",
    "variables:\n",
    "    \n",
    "First variable is __ & second variable is __.\n",
    "\n",
    "Addition: __ + __ = __\n",
    "    \n",
    "Subtraction: __ - __ = __\n",
    "    \n",
    "Multiplication: __ * __ = __\n",
    "    \n",
    "Division: __ / __ = __\n",
    "    \n",
    "ANS 1 = "
   ]
  },
  {
   "cell_type": "code",
   "execution_count": 7,
   "id": "f1942d13",
   "metadata": {},
   "outputs": [
    {
     "name": "stdout",
     "output_type": "stream",
     "text": [
      "First variable is 50 & second variable is 5.\n",
      "Addition: 50 + 5 = 55\n",
      "Subtraction: 50 - 5 = 45\n",
      "Multiplication: 50 * 5 = 250\n",
      "Division: 50 / 5 = 10.0\n"
     ]
    }
   ],
   "source": [
    "\n",
    "first_variable = 50\n",
    "second_variable = 5\n",
    "\n",
    "\n",
    "addition_result = first_variable + second_variable\n",
    "subtraction_result = first_variable - second_variable\n",
    "multiplication_result = first_variable * second_variable\n",
    "division_result = first_variable / second_variable\n",
    "\n",
    "\n",
    "print(f\"First variable is {first_variable} & second variable is {second_variable}.\")\n",
    "print(f\"Addition: {first_variable} + {second_variable} = {addition_result}\")\n",
    "print(f\"Subtraction: {first_variable} - {second_variable} = {subtraction_result}\")\n",
    "print(f\"Multiplication: {first_variable} * {second_variable} = {multiplication_result}\")\n",
    "print(f\"Division: {first_variable} / {second_variable} = {division_result}\")\n"
   ]
  },
  {
   "cell_type": "markdown",
   "id": "f6cf7a07",
   "metadata": {},
   "source": [
    "QUE 2 = What is the difference between the following operators IN python:\n",
    "    \n",
    "(i) ‘/’ & ‘//’\n",
    "\n",
    "(ii)‘**’ & ‘^’\n",
    "\n",
    "ans 2 . In Python, the '/' and '//' operators are both used for division, but they have different behaviors:\n",
    "\n",
    "/ (Division Operator):\n",
    "\n",
    "The single forward slash / is the standard division operator in Python.\n",
    "It performs floating-point division, which means it returns a floating-point (decimal) result, even if both operands are integers.\n",
    "Here's an example:"
   ]
  },
  {
   "cell_type": "code",
   "execution_count": 10,
   "id": "637f3bb4",
   "metadata": {},
   "outputs": [
    {
     "name": "stdout",
     "output_type": "stream",
     "text": [
      "2.25\n"
     ]
    }
   ],
   "source": [
    "result = 9 / 4\n",
    "print(result) \n"
   ]
  },
  {
   "cell_type": "markdown",
   "id": "557892f4",
   "metadata": {},
   "source": [
    "// (Floor Division Operator):\n",
    "\n",
    "The double forward slash // is the floor division operator in Python.\n",
    "It performs integer division, which means it returns an integer result, rounding down to the nearest whole number.\n",
    "Here's an example:"
   ]
  },
  {
   "cell_type": "code",
   "execution_count": 11,
   "id": "5ea0e564",
   "metadata": {},
   "outputs": [
    {
     "name": "stdout",
     "output_type": "stream",
     "text": [
      "2\n"
     ]
    }
   ],
   "source": [
    "result = 9 // 4\n",
    "print(result)  \n"
   ]
  },
  {
   "cell_type": "markdown",
   "id": "2264f16f",
   "metadata": {},
   "source": [
    "(ii) In Python, the '**' and '^' operators have distinct purposes and behaviors:\n",
    "    \n",
    "\n",
    "** (Exponentiation Operator):\n",
    "\n",
    "\n",
    "The double asterisk ** is used for exponentiation, which means raising a number to a certain power.\n",
    "\n",
    "It is used to calculate the power or exponent of a number, and it returns a result of the same data type as the operands.\n",
    "\n"
   ]
  },
  {
   "cell_type": "code",
   "execution_count": 12,
   "id": "42562842",
   "metadata": {},
   "outputs": [
    {
     "name": "stdout",
     "output_type": "stream",
     "text": [
      "8\n"
     ]
    }
   ],
   "source": [
    "result = 2 ** 3 \n",
    "print(result)  "
   ]
  },
  {
   "cell_type": "markdown",
   "id": "53717335",
   "metadata": {},
   "source": [
    "In the example above, 2 ** 3 calculates 2 raised to the power of 3, resulting in 8.\n",
    "^ (Bitwise XOR Operator):\n",
    "\n",
    "The caret '^' is the bitwise XOR operator in Python.\n",
    "\n",
    "It performs a bitwise exclusive OR operation between the binary representations of two integers.\n",
    "Here's an example:"
   ]
  },
  {
   "cell_type": "code",
   "execution_count": 13,
   "id": "f13df0d9",
   "metadata": {},
   "outputs": [
    {
     "name": "stdout",
     "output_type": "stream",
     "text": [
      "6\n"
     ]
    }
   ],
   "source": [
    "result = 5 ^ 3 \n",
    "print(result)"
   ]
  },
  {
   "cell_type": "markdown",
   "id": "df202310",
   "metadata": {},
   "source": [
    "In this example, the binary representation of 5 is 101, and the binary representation of 3 is 011.\n",
    "\n",
    "Performing a bitwise XOR operation results in 110, which is 6 in decimal form.\n",
    "\n"
   ]
  },
  {
   "cell_type": "markdown",
   "id": "4fd7a27d",
   "metadata": {},
   "source": [
    "que 3 = List the logical operators.\n",
    "\n",
    "ans 3 = In Python, logical operators are used to perform logical operations on Boolean values (True or False). The following are the logical operators in Python:\n",
    "\n",
    "and: This operator returns True if both operands are True; otherwise, it returns False.\n",
    "\n",
    "Example:"
   ]
  },
  {
   "cell_type": "code",
   "execution_count": 16,
   "id": "8e5c7b3b",
   "metadata": {},
   "outputs": [
    {
     "data": {
      "text/plain": [
       "False"
      ]
     },
     "execution_count": 16,
     "metadata": {},
     "output_type": "execute_result"
    }
   ],
   "source": [
    "True and True   # True\n",
    "True and False  # False\n",
    "False and True  # False\n",
    "False and False # False\n"
   ]
  },
  {
   "cell_type": "markdown",
   "id": "bcfd48a1",
   "metadata": {},
   "source": [
    "or: This operator returns True if at least one of the operands is True; otherwise, it returns False.\n",
    "\n",
    "Example:"
   ]
  },
  {
   "cell_type": "code",
   "execution_count": 17,
   "id": "8c454df2",
   "metadata": {},
   "outputs": [
    {
     "data": {
      "text/plain": [
       "False"
      ]
     },
     "execution_count": 17,
     "metadata": {},
     "output_type": "execute_result"
    }
   ],
   "source": [
    "True or True    # True\n",
    "True or False   # True\n",
    "False or True   # True\n",
    "False or False  # False\n"
   ]
  },
  {
   "cell_type": "markdown",
   "id": "e94afaaa",
   "metadata": {},
   "source": [
    "not: This operator returns the opposite of the operand's value. If the operand is True, not makes it False, and if the operand is False, not makes it True.\n",
    "\n",
    "Example:"
   ]
  },
  {
   "cell_type": "code",
   "execution_count": 18,
   "id": "24ef9999",
   "metadata": {},
   "outputs": [
    {
     "data": {
      "text/plain": [
       "True"
      ]
     },
     "execution_count": 18,
     "metadata": {},
     "output_type": "execute_result"
    }
   ],
   "source": [
    "not True  # False\n",
    "not False # True\n"
   ]
  },
  {
   "cell_type": "markdown",
   "id": "a7b7db96",
   "metadata": {},
   "source": [
    "que 4 =  Explain right shift operator and left shift operator with examples.\n",
    "\n",
    "ans 4 =  In Python, the right shift (>>) and left shift (<<) operators are used for bitwise operations on integers. These operators allow you to shift the binary representation of an integer to the right or left by a specified number of positions.\n",
    "\n",
    "Here's an explanation of the right shift and left shift operators with examples:\n",
    "\n",
    "Right Shift Operator (>>):\n",
    "The right shift operator (>>) takes two operands: the integer you want to shift and the number of positions to shift it to the right.\n",
    "When you right-shift an integer, the binary representation of the integer is moved to the right by the specified number of positions, and zeros are added to the left.\n",
    "The syntax is: integer_to_shift >> number_of_positions\n",
    "Example:"
   ]
  },
  {
   "cell_type": "code",
   "execution_count": 20,
   "id": "c0bef70e",
   "metadata": {},
   "outputs": [
    {
     "name": "stdout",
     "output_type": "stream",
     "text": [
      "2\n"
     ]
    }
   ],
   "source": [
    "# Right shift 10 by 2 positions\n",
    "result = 10 >> 2  # Binary: 1010 >> 2 = 0010\n",
    "print(result)  # Output: 2\n"
   ]
  },
  {
   "cell_type": "markdown",
   "id": "94cd7993",
   "metadata": {},
   "source": [
    "Left Shift Operator (<<):\n",
    "The left shift operator (<<) also takes two operands: the integer you want to shift and the number of positions to shift it to the left.\n",
    "When you left-shift an integer, the binary representation of the integer is moved to the left by the specified number of positions, and zeros are added to the right.\n",
    "The syntax is: integer_to_shift << number_of_positions\n",
    "Example:"
   ]
  },
  {
   "cell_type": "code",
   "execution_count": 21,
   "id": "8bfec491",
   "metadata": {},
   "outputs": [
    {
     "name": "stdout",
     "output_type": "stream",
     "text": [
      "40\n"
     ]
    }
   ],
   "source": [
    "# Left shift 5 by 3 positions\n",
    "result = 5 << 3  # Binary: 0101 << 3 = 0101000\n",
    "print(result)  # Output: 40\n"
   ]
  },
  {
   "cell_type": "markdown",
   "id": "9222bb00",
   "metadata": {},
   "source": [
    "que 5 = Create a list containing int type data of length 15. Then write a code to check if 10 is\n",
    "        present in the list or not.\n",
    "    \n",
    "ans 5 = "
   ]
  },
  {
   "cell_type": "code",
   "execution_count": 22,
   "id": "60afb705",
   "metadata": {},
   "outputs": [
    {
     "name": "stdout",
     "output_type": "stream",
     "text": [
      "10 is present in the list.\n"
     ]
    }
   ],
   "source": [
    "\n",
    "my_list = [5, 8, 3, 10, 15, 20, 25, 30, 35, 40, 45, 50, 55, 60, 65]\n",
    "\n",
    "\n",
    "if 10 in my_list:\n",
    "    print(\"10 is present in the list.\")\n",
    "else:\n",
    "    print(\"10 is not present in the list.\")\n"
   ]
  },
  {
   "cell_type": "code",
   "execution_count": null,
   "id": "3fb1d61a",
   "metadata": {},
   "outputs": [],
   "source": []
  }
 ],
 "metadata": {
  "kernelspec": {
   "display_name": "Python 3 (ipykernel)",
   "language": "python",
   "name": "python3"
  },
  "language_info": {
   "codemirror_mode": {
    "name": "ipython",
    "version": 3
   },
   "file_extension": ".py",
   "mimetype": "text/x-python",
   "name": "python",
   "nbconvert_exporter": "python",
   "pygments_lexer": "ipython3",
   "version": "3.11.4"
  }
 },
 "nbformat": 4,
 "nbformat_minor": 5
}
